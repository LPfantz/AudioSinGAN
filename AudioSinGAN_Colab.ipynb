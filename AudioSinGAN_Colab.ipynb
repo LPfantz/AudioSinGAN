{
  "nbformat": 4,
  "nbformat_minor": 0,
  "metadata": {
    "accelerator": "GPU",
    "colab": {
      "name": "AudioSinGAN_Colab.ipynb",
      "provenance": [],
      "collapsed_sections": []
    },
    "kernelspec": {
      "display_name": "Python 3",
      "name": "python3"
    }
  },
  "cells": [
    {
      "cell_type": "markdown",
      "metadata": {
        "id": "D9uF4ScMzgE-"
      },
      "source": [
        "Welcome to Audio SinGAN!\n",
        "\n",
        "There are commented out commands to save your work to google drive if you want that.\n",
        "\n",
        "If you choose not to and Google Colab kicks you out before your input is done training you will loose all your progress. If you still wish to not use google drive there is also code commented out to zip and download your results.\n",
        "\n",
        "The versions of dependancies requied may change with time. If in doubt remove all version numbers and then troubleshoot from there."
      ]
    },
    {
      "cell_type": "code",
      "metadata": {
        "id": "UQwsGa2AkPxP"
      },
      "source": [
        "!pip install sox\n",
        "!pip install -U Julius\n",
        "!pip install wandb\n",
        "!pip install torchaudio===0.8.1"
      ],
      "execution_count": null,
      "outputs": []
    },
    {
      "cell_type": "code",
      "metadata": {
        "id": "7why4ADlfRPZ"
      },
      "source": [
        "#from google.colab import drive\n",
        "#drive.mount('/content/gdrive')\n",
        "#%cd gdrive\n",
        "#%cd MyDrive/\n",
        "#!mkdir AudioSinGAN_Experiment1\n",
        "#%cd AudioSinGAN_Experiment1"
      ],
      "execution_count": null,
      "outputs": []
    },
    {
      "cell_type": "code",
      "metadata": {
        "id": "b5TgXCu-kMIC"
      },
      "source": [
        "!git clone https://github.com/LPfantz/AudioSinGAN.git\n",
        "%cd AudioSinGAN/"
      ],
      "execution_count": null,
      "outputs": []
    },
    {
      "cell_type": "code",
      "metadata": {
        "id": "xSumWf6jBEYe"
      },
      "source": [
        "!python main_train.py --input_name cut_and_amplified_scale.wav --num_layer 3 --niter 10000  --ker_size 23 --dilation 12  --lr_g 0.0001 --lr_d 0.0004 --alpha 4"
      ],
      "execution_count": null,
      "outputs": []
    },
    {
      "cell_type": "code",
      "metadata": {
        "id": "L-AAFm0S2Byf"
      },
      "source": [
        "#!zip -r /content/AudioSinGAN_Output.zip /content/AudioSinGAN/\n",
        "#from google.colab import files\n",
        "#files.download(\"/content/AudioSinGAN_Output.zip\")"
      ],
      "execution_count": null,
      "outputs": []
    },
    {
      "cell_type": "markdown",
      "metadata": {
        "id": "3ev8JINI1fCR"
      },
      "source": [
        "If your training fails in the middle of a level simply restart your runtime, renavigate to your google drive folder using linux commands,and run the following with the level_to_resume at command set to the level your training failed at."
      ]
    },
    {
      "cell_type": "code",
      "metadata": {
        "id": "FFap3y1BfdoU"
      },
      "source": [
        "#!python resume_at.py --input_name cut_and_amplified_scale.wav --level_to_resume_at 5 --num_layer 3 --niter 10000  --ker_size 23 --dilation 12  --lr_g 0.0001 --lr_d 0.0004 --alpha 4"
      ],
      "execution_count": null,
      "outputs": []
    }
  ]
}
